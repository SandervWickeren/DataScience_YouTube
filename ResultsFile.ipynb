{
 "cells": [
  {
   "cell_type": "code",
   "execution_count": 33,
   "metadata": {
    "collapsed": true
   },
   "outputs": [],
   "source": [
    "import pandas as pd\n",
    "%matplotlib inline\n",
    "from collections import Counter\n",
    "#from wordcloud import WordCloud, STOPWORDS\n",
    "import matplotlib.pyplot as plt\n",
    "import nltk\n",
    "from nltk.corpus import stopwords\n",
    "import random\n",
    "import re\n",
    "import operator\n",
    "\n",
    "\n",
    "# source: https://www.kaggle.com/datasnaek/youtube-new/data"
   ]
  },
  {
   "cell_type": "code",
   "execution_count": 8,
   "metadata": {
    "collapsed": true
   },
   "outputs": [],
   "source": [
    "trending = pd.DataFrame.from_csv('USvideos_1.csv')\n",
    "trending_UK = pd.DataFrame.from_csv(\"GBvideos.csv\")\n",
    "trending_CA = pd.DataFrame.from_csv(\"CAvideos.csv\")\n",
    "\n",
    "categories = pd.DataFrame.from_csv(\"categories.csv\",index_col=None)\n",
    "trending= trending.merge(categories,on=\"category_id\")\n",
    "trending_UK = trending_UK.merge(categories,on=\"category_id\")\n",
    "trending_CA = trending_CA.merge(categories,on=\"category_id\")"
   ]
  },
  {
   "cell_type": "code",
   "execution_count": 9,
   "metadata": {
    "collapsed": true
   },
   "outputs": [],
   "source": [
    "# Voeg ratios toe\n",
    "trending['like_view_ratio'] = trending.likes / trending.views\n",
    "trending['dislike_view_ratio'] = trending.dislikes / trending.views\n",
    "trending[\"like_dislike_ratio\"] = trending.likes / trending.dislikes"
   ]
  },
  {
   "cell_type": "code",
   "execution_count": 10,
   "metadata": {
    "collapsed": true
   },
   "outputs": [],
   "source": [
    "# regelt timecodes\n",
    "# we moeten tijden indelen in blokken van een uur dus 23:30 gaat in het blok van 00:00 en 04:45 in 05:00\n",
    "times = [[int(y[0]),int(y[1])] for y in [x.split(\"T\")[1][:-8].split(\":\") for x in trending.publish_time]]\n",
    "timecodes = [] \n",
    "for hour, minutes in times:\n",
    "    if minutes==0:\n",
    "        timecodes.append(hour)\n",
    "    else:\n",
    "        if hour != 23:\n",
    "            timecodes.append(hour+1)\n",
    "        else:\n",
    "            timecodes.append(0)\n",
    "trending[\"timecode\"]= pd.Series(timecodes,index=trending.index)"
   ]
  },
  {
   "cell_type": "code",
   "execution_count": 12,
   "metadata": {
    "collapsed": true
   },
   "outputs": [],
   "source": [
    "publish_dates = []\n",
    "for x in trending.publish_time:\n",
    "    temp = x.split(\"T\")[0].replace(\"-\",\".\")\n",
    "    publish_dates.append( temp[2:5]+str(int(temp[-2:])+1)+temp[-6:-3])\n",
    "trending[\"publish_date\"]=publish_dates\n"
   ]
  },
  {
   "cell_type": "code",
   "execution_count": 20,
   "metadata": {
    "collapsed": true
   },
   "outputs": [],
   "source": [
    "# calculates the time until a video becomes trending\n",
    "originalTimes = trending[[\"trending_date\",\"publish_date\",\"timecode\"]]\n",
    "time_until_trending= []\n",
    "for x in originalTimes.iterrows():\n",
    "    trendDate = x[1][0].split(\".\")\n",
    "    publDate  = x[1][1].split(\".\")\n",
    "    timeCode  = int(x[1][2])\n",
    "    hours  = abs(int(trendDate[1])-int(publDate[1]))*24\n",
    "    months = abs(int(trendDate[2])-int(publDate[2]))*720\n",
    "    total = timeCode+hours+months\n",
    "    time_until_trending.append(total)\n",
    "trending[\"time_until_trending\"]=time_until_trending\n",
    "\n",
    "#preparation for wordclouds\n",
    "contro = trending[trending.like_dislike_ratio < 1].title.values"
   ]
  },
  {
   "cell_type": "code",
   "execution_count": 21,
   "metadata": {
    "collapsed": true
   },
   "outputs": [],
   "source": [
    "def color_func_red(word, font_size, position, orientation, random_state=None,\n",
    "                    **kwargs):\n",
    "    return \"hsl(0, 50%%, %d%%)\" % random.randint(40, 80)\n",
    "\n",
    "def color_func_green(word, font_size, position, orientation, random_state=None,\n",
    "                    **kwargs):\n",
    "    return \"hsl(100, 50%%, %d%%)\" % random.randint(40, 80)\n",
    "\n",
    "def color_func_blue(word, font_size, position, orientation, random_state=None,\n",
    "                    **kwargs):\n",
    "    return \"hsl(200, 50%%, %d%%)\" % random.randint(40, 80)"
   ]
  },
  {
   "cell_type": "code",
   "execution_count": null,
   "metadata": {
    "collapsed": true
   },
   "outputs": [],
   "source": [
    "def gen_word_cloud(data, color, collo):\n",
    "    \n",
    "    # Kleuren bepalen\n",
    "    if color == 1:\n",
    "        func = color_func_red\n",
    "    elif color == 2:\n",
    "        func = color_func_green\n",
    "    else:\n",
    "        func = color_func_blue\n",
    "    \n",
    "    text = \" \".join([re.sub(r\"[!.\\(\\)\\[\\],\\´\\';\\'\\-:\\'\\\"]\", \"\", str(x).lower()) for x in data])\n",
    "\n",
    "    wordcloud = WordCloud(width=2000, height=1000, relative_scaling = 1, max_words=40, collocations=collo, regexp=r\"\\w[\\S']+\",\n",
    "                          stopwords = stopwords.words('english') # set or space-separated string\n",
    "                          ).generate(text)\n",
    "    plt.figure( figsize=(20,10) )\n",
    "    plt.imshow(wordcloud.recolor(color_func=func, random_state=3),\n",
    "               interpolation=\"bilinear\")\n",
    "    plt.axis(\"off\")\n",
    "    plt.show()"
   ]
  },
  {
   "cell_type": "code",
   "execution_count": 32,
   "metadata": {
    "collapsed": true
   },
   "outputs": [],
   "source": [
    "def stripTitle(titles,country):\n",
    "    result= []\n",
    "    stop = stopwords.words(\"english\")\n",
    "    for x in titles:\n",
    "        temp = re.sub(r\"[!.\\(\\)\\[\\],\\´\\';\\'\\-:\\'\\\"\\|\\/\\*\\?\\&]\", \"\", str(x).lower())\n",
    "        temp = re.sub(r\" {2,}\", \" \", temp)\n",
    "        \n",
    "        for y in temp.split(\" \"):\n",
    "            if y not in stop and re.fullmatch(r\"\\D+\",y):\n",
    "                result.append(y)\n",
    "    return result\n",
    "\n",
    "def stripTitlesToDict(titles,country):\n",
    "    result= stripTitle(titles,country)\n",
    "    resultDict=Counter(result)            \n",
    "    words = pd.DataFrame.from_dict(resultDict,orient='index')\n",
    "    words.columns=[country]\n",
    "    words[country]=words[country]/len(words[country])\n",
    "    return words\n",
    "\n",
    "def stripTitlesCount(titles,country):\n",
    "    result= stripTitle(titles,country)\n",
    "    resultDict=Counter(result)\n",
    "    return resultDict\n",
    "    "
   ]
  },
  {
   "cell_type": "markdown",
   "metadata": {},
   "source": [
    "# Hieronder alle tijdelijk uitgecommente code, ivm errors of work in progress"
   ]
  },
  {
   "cell_type": "markdown",
   "metadata": {},
   "source": [
    "#preparation results code, still needs to be recreated\n",
    "results=[]\n",
    "for x in trending.title:\n",
    "    temp= trending[trending.title==x]\n",
    "    if len(temp)!=1:\n",
    "        results.append((max(temp.views)-min(temp.views)/len(temp)))\n",
    "    else:\n",
    "        results.append(temp.views.max())\n",
    "trending[\"increase_views\"]=results"
   ]
  },
  {
   "cell_type": "markdown",
   "metadata": {},
   "source": [
    "## Welke termen zijn het meest voorkomend in titels van trending video's en verschillen deze termen bij variërende like/dislike ratio’s?"
   ]
  },
  {
   "cell_type": "markdown",
   "metadata": {},
   "source": [
    "### Methode\n",
    "Om deze vraag te kunnen beantwoorden zal de library WordCloud worden gebruikt. Eerst worden alle titels uit het dataframe gehaald. Vervolgens worden de titels aan elkaar geplakt als een string met spaties ertussen in plaats van bijvoorbeeld punten, aangezien WordCloud dit als input wilt. Om een WordCloud te kunnen genereren in kleur zal een functie worden geschreven, waaraan parameters kunnen worden meegegeven om de kleur te bepalen.\n",
    "De kleur is afhankelijk van de like/dislike ratio. Bij een like/dislike ratio groter dan 1 wordt de WordCloud groen gekleurd, bij precies 1 blauw en bij kleiner dan 1 rood. Voordat de wordclours gegenereerd zullen worden, worden eerst de stopwords uit de library NLTK eruit gehaald.\n"
   ]
  },
  {
   "cell_type": "code",
   "execution_count": 24,
   "metadata": {
    "collapsed": true
   },
   "outputs": [],
   "source": [
    "# alles biagrams met negatieve ratio in titels\n",
    "#gen_word_cloud(contro, 1, True)"
   ]
  },
  {
   "cell_type": "code",
   "execution_count": 25,
   "metadata": {
    "collapsed": true
   },
   "outputs": [],
   "source": [
    "# Alle enkele woorden\n",
    "titles = trending[trending.like_dislike_ratio > 1].title.values\n",
    "#gen_word_cloud(titles, 2, False)"
   ]
  },
  {
   "cell_type": "code",
   "execution_count": 26,
   "metadata": {
    "collapsed": true
   },
   "outputs": [],
   "source": [
    "# Alle biagrams met hoge ratio\n",
    "#gen_word_cloud(titles, 2, True)"
   ]
  },
  {
   "cell_type": "code",
   "execution_count": 34,
   "metadata": {},
   "outputs": [
    {
     "name": "stdout",
     "output_type": "stream",
     "text": [
      "[('official', 2097), ('video', 1389), ('trailer', 1104), ('ft', 697), ('new', 693), ('music', 569), ('audio', 561), ('live', 556), ('hd', 539), ('vs', 538), ('day', 492), ('makeup', 462), ('first', 441), ('christmas', 435), ('star', 430), ('best', 401), ('make', 393), ('super', 392), ('black', 391), ('full', 361)]\n",
      "[('official', 87), ('video', 76), ('mv', 55), ('bts', 54), ('audio', 40), ('live', 40), ('ft', 32), ('day', 27), ('camila', 27), ('cabello', 26), ('makeup', 25), ('cover', 25), ('feat', 24), ('lyric', 24), ('holiday', 23), ('dodie', 23), ('things', 22), ('music', 22), ('trailer', 22), ('beauty', 21)]\n",
      "[('fcc', 7), ('repeals', 4), ('net', 4), ('neutrality', 4), ('rules', 4), ('psa', 3), ('chairman', 3), ('ajit', 3), ('pai', 3)]\n"
     ]
    }
   ],
   "source": [
    "titles = stripTitlesCount(trending.title.values, \"US\")\n",
    "titleslike = stripTitlesCount(trending[trending.like_view_ratio > 0.10].title.values, \"US\")\n",
    "titlesdislike = stripTitlesCount(trending[trending.dislike_view_ratio > 0.10].title.values, \"US\")\n",
    "\n",
    "alles = sorted(titles.items(), key=operator.itemgetter(1), reverse=True)\n",
    "like = sorted(titleslike.items(), key=operator.itemgetter(1), reverse=True)\n",
    "dislike = sorted(titlesdislike.items(), key=operator.itemgetter(1), reverse=True)\n",
    "\n",
    "print(alles[:20])\n",
    "print(like[:20])\n",
    "print(dislike[:20])"
   ]
  },
  {
   "cell_type": "markdown",
   "metadata": {},
   "source": [
    "### Results"
   ]
  },
  {
   "cell_type": "markdown",
   "metadata": {},
   "source": [
    "## Welke termen zijn het meest voorkomend in beschrijvingen van trending video's en verschillen deze termen bij variërende like/dislike ratio’s?\n"
   ]
  },
  {
   "cell_type": "markdown",
   "metadata": {},
   "source": [
    "### Methode\n",
    "Bij deze deelvraag is hetzelfde gedaan als bij deelvraag 1, alleen wordt nu de beschrijving bekeken in plaats van de titels. Een extra stap die hier genomen zal worden zal zijn dat woorden die in zo goed als elke beschrijving voorkomen er ook nog uitgehaald worden. Dit zijn worden als ‘like’ & ‘subscribe’.\n"
   ]
  },
  {
   "cell_type": "code",
   "execution_count": 27,
   "metadata": {
    "collapsed": true
   },
   "outputs": [],
   "source": [
    "# Alle beschrijvingen bekijken, enkele woorden.\n",
    "description = trending.description.values\n",
    "#gen_word_cloud(description, 3, False)"
   ]
  },
  {
   "cell_type": "markdown",
   "metadata": {},
   "source": [
    "### Results"
   ]
  },
  {
   "cell_type": "markdown",
   "metadata": {},
   "source": [
    "## Is er een verband tussen de ratio van het aantal likes en het aantal views?\n"
   ]
  },
  {
   "cell_type": "markdown",
   "metadata": {},
   "source": [
    "### Methode\n",
    "Voordat de ratio tussen het aantal likes en dislikes wordt berekend wordt de data genormaliseerd. Dit zal worden gedaan door ratio’s te maken, berekent als (Likes / Views) per video. Dit zal worden gesorteerd van een laag naar hoog aantal views en zal hierna worden geplot. De x-as zal logaritmisch worden geschaald om het grote verschil in views goed te kunnen weergeven.\n"
   ]
  },
  {
   "cell_type": "markdown",
   "metadata": {},
   "source": [
    "# MOET ANDER PLOTJE WORDEN"
   ]
  },
  {
   "cell_type": "code",
   "execution_count": 28,
   "metadata": {},
   "outputs": [
    {
     "data": {
      "text/plain": [
       "<matplotlib.axes._subplots.AxesSubplot at 0x211823a0c18>"
      ]
     },
     "execution_count": 28,
     "metadata": {},
     "output_type": "execute_result"
    },
    {
     "data": {
      "image/png": "[encoded data removed]",
      "text/plain": [
       "<matplotlib.figure.Figure at 0x211823a9048>"
      ]
     },
     "metadata": {},
     "output_type": "display_data"
    }
   ],
   "source": [
    "# Ratio likes ten opzichte van views.\n",
    "trending.sort_values(by='views').plot(x='views', y=\"like_view_ratio\", figsize=(12,8), logx=True)"
   ]
  },
  {
   "cell_type": "markdown",
   "metadata": {},
   "source": [
    "### Results"
   ]
  },
  {
   "cell_type": "markdown",
   "metadata": {},
   "source": [
    "## Is er een verband tussen de ratio van het aantal dislikes en het aantal views?\n"
   ]
  },
  {
   "cell_type": "markdown",
   "metadata": {},
   "source": [
    "### Methode\n",
    "De methode werkt hetzelfde als bij deelvraag 3, behalve dat er nu een ratio wordt gemaakt van Dislikes / Views per video. Ook hier wordt er gesorteerd van laag naar hoog en zal de x-as logaritmisch geschaald worden.\n"
   ]
  },
  {
   "cell_type": "code",
   "execution_count": 29,
   "metadata": {
    "collapsed": true
   },
   "outputs": [],
   "source": [
    "#Code hier"
   ]
  },
  {
   "cell_type": "markdown",
   "metadata": {},
   "source": [
    "### Results"
   ]
  },
  {
   "cell_type": "markdown",
   "metadata": {},
   "source": [
    "## Zijn er verschillen in titels tussen US, GB en CA?"
   ]
  },
  {
   "cell_type": "markdown",
   "metadata": {},
   "source": [
    "# NIET AF\n",
    "### Methode\n",
    "Om de titels te kunnen vergelijken zullen eerst alle engelse stopwoorden met behulp van de library NLTK verwijderd worden. Daarna worden voor ieder land de meest voorkomende woorden in de titel in een frequentietabel gestopt. De frequenties van het aantal woorden zal worden genormaliseerd door deze te delen door het totaal aantal voorkomende woorden in het land. Hierna worden de top voorkomende woorden genomen, bepaald door het totaal dat het woord voorkomt in alle landen (US, GB, CA). Dit wordt geplot in een grouped bar chart. Er wordt een plot gemaakt van de top woorden van ieder land. Dit resulteert in 3 grouped bar charts die uitgaan van de verschillende topwoorden.\n"
   ]
  },
  {
   "cell_type": "code",
   "execution_count": 35,
   "metadata": {
    "collapsed": true
   },
   "outputs": [],
   "source": [
    "#code"
   ]
  },
  {
   "cell_type": "markdown",
   "metadata": {},
   "source": [
    "### Results"
   ]
  },
  {
   "cell_type": "markdown",
   "metadata": {},
   "source": [
    "##  Wat is de gemiddelde toename aan views voor trending video's die meerdere dagen in de trending staan?\n"
   ]
  },
  {
   "cell_type": "markdown",
   "metadata": {},
   "source": [
    "### Methode\n",
    "# ontbreekt"
   ]
  },
  {
   "cell_type": "code",
   "execution_count": 36,
   "metadata": {
    "collapsed": true
   },
   "outputs": [],
   "source": [
    "#code"
   ]
  },
  {
   "cell_type": "markdown",
   "metadata": {},
   "source": [
    "### Results"
   ]
  },
  {
   "cell_type": "markdown",
   "metadata": {},
   "source": [
    "##  Wat zijn de meest voorkomende categorieën en hoe verschilt dat bij verschillende like/view ratio’s?"
   ]
  },
  {
   "cell_type": "markdown",
   "metadata": {},
   "source": [
    "### Methode\n",
    "# Stond nog een comment bij\n",
    "Om deze vraag te beantwoorden zullen de categorieën worden geteld. Vervolgens zullen de categorieën worden geteld voor alle video’s die een like/view ratio van hoger dan 0.10 likes per view hebben, en ook de categorieën bij een dislike/view ratio van hoger dan 0.10.\n"
   ]
  },
  {
   "cell_type": "code",
   "execution_count": 37,
   "metadata": {
    "collapsed": true
   },
   "outputs": [],
   "source": [
    "#code"
   ]
  },
  {
   "cell_type": "markdown",
   "metadata": {},
   "source": [
    "### Results"
   ]
  },
  {
   "cell_type": "markdown",
   "metadata": {},
   "source": [
    "## Is er een verband tussen de publicatie tijd en het aantal views?"
   ]
  },
  {
   "cell_type": "markdown",
   "metadata": {},
   "source": [
    "### Methode\n",
    "# Moet nog"
   ]
  },
  {
   "cell_type": "code",
   "execution_count": 38,
   "metadata": {
    "collapsed": true
   },
   "outputs": [],
   "source": [
    "# code"
   ]
  },
  {
   "cell_type": "markdown",
   "metadata": {},
   "source": [
    "### Results"
   ]
  },
  {
   "cell_type": "code",
   "execution_count": null,
   "metadata": {
    "collapsed": true
   },
   "outputs": [],
   "source": []
  }
 ],
 "metadata": {
  "kernelspec": {
   "display_name": "Python 3",
   "language": "python",
   "name": "python3"
  },
  "language_info": {
   "codemirror_mode": {
    "name": "ipython",
    "version": 3
   },
   "file_extension": ".py",
   "mimetype": "text/x-python",
   "name": "python",
   "nbconvert_exporter": "python",
   "pygments_lexer": "ipython3",
   "version": "3.6.3"
  }
 },
 "nbformat": 4,
 "nbformat_minor": 2
}
