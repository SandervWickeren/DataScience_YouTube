{
 "cells": [
  {
   "cell_type": "code",
   "execution_count": null,
   "metadata": {
    "collapsed": true
   },
   "outputs": [],
   "source": [
    "# Verkrijg alle mogelijke tags\n",
    "tags = [tag for row in trending.tags.str.split('|') for tag in row]\n",
    "gen_word_cloud(tags, 3, True)"
   ]
  },
  {
   "cell_type": "markdown",
   "metadata": {},
   "source": [
    "## Hoe oud zijn videos voordat ze in trending terecht komen?"
   ]
  },
  {
   "cell_type": "code",
   "execution_count": null,
   "metadata": {
    "collapsed": true
   },
   "outputs": [],
   "source": [
    "# Remove duplicates\n",
    "trending = trending.drop_duplicates(subset='title')"
   ]
  },
  {
   "cell_type": "code",
   "execution_count": null,
   "metadata": {
    "collapsed": true
   },
   "outputs": [],
   "source": [
    "from datetime import date\n",
    "\n",
    "def get_difference(publish_date, trending_date):\n",
    "    \"\"\"\n",
    "    Calculates the difference in days between two given dates.\n",
    "    \"\"\"\n",
    "    pub_strip = publish_date.split(\".\")\n",
    "    tren_strip = trending_date.split(\".\")\n",
    "    \n",
    "    d1 = date(2000 + int(pub_strip[0]), int(pub_strip[2]), int(pub_strip[1]))\n",
    "    d2 = date(2000 + int(tren_strip[0]), int(tren_strip[2]), int(tren_strip[1]))\n",
    "    \n",
    "    # return difference\n",
    "    return abs((d2 - d1).days)"
   ]
  },
  {
   "cell_type": "code",
   "execution_count": null,
   "metadata": {
    "collapsed": true
   },
   "outputs": [],
   "source": [
    "def add_difference(trending):\n",
    "    \"\"\"\n",
    "    Helper function to add for every video the difference between, publish and trending date.\n",
    "    \"\"\"\n",
    "    for x in trending.index:\n",
    "        try:\n",
    "            trending['difference'][x] = get_difference(trending.publish_date[x], trending.trending_date[x])\n",
    "        except:\n",
    "            trending['difference'][x] = np.nan\n",
    "\n",
    "        # Print progression percentage\n",
    "        if x % 1000 == 0:\n",
    "            print((x / 23370) * 100, '%')\n",
    "\n",
    "    return trending"
   ]
  },
  {
   "cell_type": "code",
   "execution_count": null,
   "metadata": {
    "collapsed": true
   },
   "outputs": [],
   "source": [
    "# Calculate the difference for all videos\n",
    "new_trending = add_difference(trending)"
   ]
  },
  {
   "cell_type": "code",
   "execution_count": null,
   "metadata": {
    "collapsed": true
   },
   "outputs": [],
   "source": [
    "# Count values, and select the values who occur more then once. Sort from 0 days to 20 days.\n",
    "new_trending.difference.value_counts().sort_index()[new_trending.difference.value_counts() > 1].plot(kind='bar', figsize=(8,8),\n",
    "                                            title='Tijd tussen uploaden en trending bereiken in dagen')\n",
    "# Add X and Y label\n",
    "plt.xlabel('Aantal dagen')\n",
    "plt.ylabel('Frequentie')\n",
    "plt.show()"
   ]
  }
 ],
 "metadata": {
  "kernelspec": {
   "display_name": "Python 3",
   "language": "python",
   "name": "python3"
  },
  "language_info": {
   "codemirror_mode": {
    "name": "ipython",
    "version": 3
   },
   "file_extension": ".py",
   "mimetype": "text/x-python",
   "name": "python",
   "nbconvert_exporter": "python",
   "pygments_lexer": "ipython3",
   "version": "3.6.3"
  }
 },
 "nbformat": 4,
 "nbformat_minor": 2
}
