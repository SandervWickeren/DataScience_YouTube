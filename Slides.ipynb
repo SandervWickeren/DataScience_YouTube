{
 "cells": [
  {
   "cell_type": "markdown",
   "metadata": {
    "slideshow": {
     "slide_type": "slide"
    }
   },
   "source": [
    "# Trending YouTube video's\n",
    "_Sandy & co._  \n",
    "Marit Beerepoot  \n",
    "Jessy Bosman    \n",
    "Vincent Damen  \n",
    "Laura Geerars  \n",
    "Sander van Wickeren  "
   ]
  },
  {
   "cell_type": "markdown",
   "metadata": {
    "collapsed": true,
    "slideshow": {
     "slide_type": "slide"
    }
   },
   "source": [
    "# Introductie\n",
    "\n",
    "_Onderzoeksvraag:_    \n",
    "Wat zijn de factoren die trending video’s gemeen hebben? \n",
    "\n",
    "_Deelvragen:_\n",
    "1. Welke termen komen het meeste voor in trending video’s?\n",
    "1. Is er een verschil tussen aantal likes, dislikes en ratio's ertussen?\n",
    "1. is er een verband tussen nieuwsgebeurtenissen en bepaald trending video’s?\n",
    "1. Zijn er verschillen in titels tussen US, GB en CA bij trending video's?\n",
    "1. Wat is het gemiddelde toename aan views voor trending video’s ?\n",
    "\n",
    "\n"
   ]
  },
  {
   "cell_type": "markdown",
   "metadata": {
    "slideshow": {
     "slide_type": "slide"
    }
   },
   "source": [
    "# Literatuur  \n",
    "* YouTube video views al vaker gebruikt om populariteit te meten  <small>(Xie et al., 2011)</small>\n",
    "* Trending video's hebben een plotselinge peak in populariteit, bijvoorbeeld door externe events <small>(Crane & Sonette, 2008)  </small>\n",
    "* Tags maakt het vinden van video's makkelijker <small>(Gill et al, 2007)</small>\n",
    "* Conformers voten positief op populaire items en negatief op onpopulaire items en dat mavericks dit andersom doen <small>(Yin et al., 2012)</small>"
   ]
  },
  {
   "cell_type": "markdown",
   "metadata": {
    "slideshow": {
     "slide_type": "slide"
    }
   },
   "source": [
    "# Methodology:\n",
    "* Dataset met dagelijkse statistieken van trending YouTube video's\n",
    "* .csv bestanden\n",
    "* Data gebruikt van Groot Brittannië, United States en Canada\n",
    "* Data van 14 november 2017 tot 26 maart 2017\n",
    "* Bron: Mitchell J op Kaggle"
   ]
  },
  {
   "cell_type": "markdown",
   "metadata": {
    "slideshow": {
     "slide_type": "slide"
    }
   },
   "source": [
    "# Data\n",
    "csv's bevatten de volgende informatie: \n",
    "* video ID\n",
    "* datum waarop de video trending is\n",
    "* titel\n",
    "* channel\n",
    "* tags\n",
    "* likes\n",
    "* dislikes\n",
    "* aantal comments\n",
    "* beschrijving en upload datum."
   ]
  },
  {
   "cell_type": "code",
   "execution_count": 3,
   "metadata": {
    "collapsed": true,
    "slideshow": {
     "slide_type": "skip"
    }
   },
   "outputs": [],
   "source": [
    "import pandas as pd\n",
    "%matplotlib inline\n",
    "from collections import Counter\n",
    "# source: https://www.kaggle.com/datasnaek/youtube-new/data\n",
    "trending = pd.DataFrame.from_csv('USvideos_1.csv')\n",
    "categories = pd.DataFrame.from_csv(\"categories.csv\",index_col=None)\n",
    "trending=trending.merge(categories,on=\"category_id\")"
   ]
  },
  {
   "cell_type": "code",
   "execution_count": 4,
   "metadata": {
    "scrolled": true,
    "slideshow": {
     "slide_type": "subslide"
    }
   },
   "outputs": [
    {
     "data": {
      "text/html": [
       "<div>\n",
       "<style>\n",
       "    .dataframe thead tr:only-child th {\n",
       "        text-align: right;\n",
       "    }\n",
       "\n",
       "    .dataframe thead th {\n",
       "        text-align: left;\n",
       "    }\n",
       "\n",
       "    .dataframe tbody tr th {\n",
       "        vertical-align: top;\n",
       "    }\n",
       "</style>\n",
       "<table border=\"1\" class=\"dataframe\">\n",
       "  <thead>\n",
       "    <tr style=\"text-align: right;\">\n",
       "      <th></th>\n",
       "      <th>trending_date</th>\n",
       "      <th>title</th>\n",
       "      <th>channel_title</th>\n",
       "      <th>category_id</th>\n",
       "      <th>publish_time</th>\n",
       "      <th>tags</th>\n",
       "      <th>views</th>\n",
       "      <th>likes</th>\n",
       "      <th>dislikes</th>\n",
       "      <th>comment_count</th>\n",
       "      <th>thumbnail_link</th>\n",
       "      <th>comments_disabled</th>\n",
       "      <th>ratings_disabled</th>\n",
       "      <th>video_error_or_removed</th>\n",
       "      <th>description</th>\n",
       "      <th>category_name</th>\n",
       "    </tr>\n",
       "  </thead>\n",
       "  <tbody>\n",
       "    <tr>\n",
       "      <th>0</th>\n",
       "      <td>17.14.11</td>\n",
       "      <td>WE WANT TO TALK ABOUT OUR MARRIAGE</td>\n",
       "      <td>CaseyNeistat</td>\n",
       "      <td>22</td>\n",
       "      <td>2017-11-13T17:13:01.000Z</td>\n",
       "      <td>SHANtell martin</td>\n",
       "      <td>748374</td>\n",
       "      <td>57527</td>\n",
       "      <td>2966</td>\n",
       "      <td>15954</td>\n",
       "      <td>https://i.ytimg.com/vi/2kyS6SvSYSE/default.jpg</td>\n",
       "      <td>False</td>\n",
       "      <td>False</td>\n",
       "      <td>False</td>\n",
       "      <td>SHANTELL'S CHANNEL - https://www.youtube.com/s...</td>\n",
       "      <td>People &amp; Blogs</td>\n",
       "    </tr>\n",
       "    <tr>\n",
       "      <th>1</th>\n",
       "      <td>17.14.11</td>\n",
       "      <td>Me-O Cats Commercial</td>\n",
       "      <td>Nobrand</td>\n",
       "      <td>22</td>\n",
       "      <td>2017-04-21T06:47:32.000Z</td>\n",
       "      <td>cute|\"cats\"|\"thai\"|\"eggs\"</td>\n",
       "      <td>98966</td>\n",
       "      <td>2486</td>\n",
       "      <td>184</td>\n",
       "      <td>532</td>\n",
       "      <td>https://i.ytimg.com/vi/0mlNzVSJrT0/default.jpg</td>\n",
       "      <td>False</td>\n",
       "      <td>False</td>\n",
       "      <td>False</td>\n",
       "      <td>Kittens come out of the eggs in a Thai commerc...</td>\n",
       "      <td>People &amp; Blogs</td>\n",
       "    </tr>\n",
       "    <tr>\n",
       "      <th>2</th>\n",
       "      <td>17.14.11</td>\n",
       "      <td>AFFAIRS, EX BOYFRIENDS, $18MILLION NET WORTH -...</td>\n",
       "      <td>Shawn Johnson East</td>\n",
       "      <td>22</td>\n",
       "      <td>2017-11-11T15:00:03.000Z</td>\n",
       "      <td>shawn johnson|\"andrew east\"|\"shawn east\"|\"shaw...</td>\n",
       "      <td>321053</td>\n",
       "      <td>4451</td>\n",
       "      <td>1772</td>\n",
       "      <td>895</td>\n",
       "      <td>https://i.ytimg.com/vi/STI2fI7sKMo/default.jpg</td>\n",
       "      <td>False</td>\n",
       "      <td>False</td>\n",
       "      <td>False</td>\n",
       "      <td>Subscribe for weekly videos ▶ http://bit.ly/sj...</td>\n",
       "      <td>People &amp; Blogs</td>\n",
       "    </tr>\n",
       "    <tr>\n",
       "      <th>3</th>\n",
       "      <td>17.14.11</td>\n",
       "      <td>BLIND(folded) CAKE DECORATING CONTEST (with Mo...</td>\n",
       "      <td>Grace Helbig</td>\n",
       "      <td>22</td>\n",
       "      <td>2017-11-11T18:08:04.000Z</td>\n",
       "      <td>itsgrace|\"funny\"|\"comedy\"|\"vlog\"|\"grace\"|\"helb...</td>\n",
       "      <td>197062</td>\n",
       "      <td>7250</td>\n",
       "      <td>217</td>\n",
       "      <td>456</td>\n",
       "      <td>https://i.ytimg.com/vi/KODzih-pYlU/default.jpg</td>\n",
       "      <td>False</td>\n",
       "      <td>False</td>\n",
       "      <td>False</td>\n",
       "      <td>Molly is an god damn amazing human and she cha...</td>\n",
       "      <td>People &amp; Blogs</td>\n",
       "    </tr>\n",
       "    <tr>\n",
       "      <th>4</th>\n",
       "      <td>17.14.11</td>\n",
       "      <td>Wearing Online Dollar Store Makeup For A Week</td>\n",
       "      <td>Safiya Nygaard</td>\n",
       "      <td>22</td>\n",
       "      <td>2017-11-11T01:19:33.000Z</td>\n",
       "      <td>wearing online dollar store makeup for a week|...</td>\n",
       "      <td>2744430</td>\n",
       "      <td>115426</td>\n",
       "      <td>1110</td>\n",
       "      <td>6541</td>\n",
       "      <td>https://i.ytimg.com/vi/8mhTWqWlQzU/default.jpg</td>\n",
       "      <td>False</td>\n",
       "      <td>False</td>\n",
       "      <td>False</td>\n",
       "      <td>I found this online dollar store called ShopMi...</td>\n",
       "      <td>People &amp; Blogs</td>\n",
       "    </tr>\n",
       "  </tbody>\n",
       "</table>\n",
       "</div>"
      ],
      "text/plain": [
       "  trending_date                                              title  \\\n",
       "0      17.14.11                 WE WANT TO TALK ABOUT OUR MARRIAGE   \n",
       "1      17.14.11                               Me-O Cats Commercial   \n",
       "2      17.14.11  AFFAIRS, EX BOYFRIENDS, $18MILLION NET WORTH -...   \n",
       "3      17.14.11  BLIND(folded) CAKE DECORATING CONTEST (with Mo...   \n",
       "4      17.14.11      Wearing Online Dollar Store Makeup For A Week   \n",
       "\n",
       "        channel_title  category_id              publish_time  \\\n",
       "0        CaseyNeistat           22  2017-11-13T17:13:01.000Z   \n",
       "1             Nobrand           22  2017-04-21T06:47:32.000Z   \n",
       "2  Shawn Johnson East           22  2017-11-11T15:00:03.000Z   \n",
       "3        Grace Helbig           22  2017-11-11T18:08:04.000Z   \n",
       "4      Safiya Nygaard           22  2017-11-11T01:19:33.000Z   \n",
       "\n",
       "                                                tags    views   likes  \\\n",
       "0                                    SHANtell martin   748374   57527   \n",
       "1                          cute|\"cats\"|\"thai\"|\"eggs\"    98966    2486   \n",
       "2  shawn johnson|\"andrew east\"|\"shawn east\"|\"shaw...   321053    4451   \n",
       "3  itsgrace|\"funny\"|\"comedy\"|\"vlog\"|\"grace\"|\"helb...   197062    7250   \n",
       "4  wearing online dollar store makeup for a week|...  2744430  115426   \n",
       "\n",
       "   dislikes  comment_count                                  thumbnail_link  \\\n",
       "0      2966          15954  https://i.ytimg.com/vi/2kyS6SvSYSE/default.jpg   \n",
       "1       184            532  https://i.ytimg.com/vi/0mlNzVSJrT0/default.jpg   \n",
       "2      1772            895  https://i.ytimg.com/vi/STI2fI7sKMo/default.jpg   \n",
       "3       217            456  https://i.ytimg.com/vi/KODzih-pYlU/default.jpg   \n",
       "4      1110           6541  https://i.ytimg.com/vi/8mhTWqWlQzU/default.jpg   \n",
       "\n",
       "   comments_disabled  ratings_disabled  video_error_or_removed  \\\n",
       "0              False             False                   False   \n",
       "1              False             False                   False   \n",
       "2              False             False                   False   \n",
       "3              False             False                   False   \n",
       "4              False             False                   False   \n",
       "\n",
       "                                         description   category_name  \n",
       "0  SHANTELL'S CHANNEL - https://www.youtube.com/s...  People & Blogs  \n",
       "1  Kittens come out of the eggs in a Thai commerc...  People & Blogs  \n",
       "2  Subscribe for weekly videos ▶ http://bit.ly/sj...  People & Blogs  \n",
       "3  Molly is an god damn amazing human and she cha...  People & Blogs  \n",
       "4  I found this online dollar store called ShopMi...  People & Blogs  "
      ]
     },
     "execution_count": 4,
     "metadata": {},
     "output_type": "execute_result"
    }
   ],
   "source": [
    "trending.head()"
   ]
  },
  {
   "cell_type": "markdown",
   "metadata": {
    "slideshow": {
     "slide_type": "slide"
    }
   },
   "source": [
    "# Evaluatie"
   ]
  },
  {
   "cell_type": "code",
   "execution_count": null,
   "metadata": {
    "collapsed": true
   },
   "outputs": [],
   "source": []
  },
  {
   "cell_type": "markdown",
   "metadata": {},
   "source": [
    "# Conclusie"
   ]
  },
  {
   "cell_type": "code",
   "execution_count": null,
   "metadata": {
    "collapsed": true
   },
   "outputs": [],
   "source": []
  },
  {
   "cell_type": "code",
   "execution_count": 1,
   "metadata": {
    "slideshow": {
     "slide_type": "skip"
    }
   },
   "outputs": [
    {
     "name": "stderr",
     "output_type": "stream",
     "text": [
      "[NbConvertApp] Converting notebook Slides.ipynb to slides\n",
      "[NbConvertApp] Writing 261523 bytes to Slides.slides.html\n"
     ]
    }
   ],
   "source": [
    "!jupyter nbconvert Slides.ipynb --to slides"
   ]
  },
  {
   "cell_type": "code",
   "execution_count": null,
   "metadata": {
    "collapsed": true
   },
   "outputs": [],
   "source": []
  }
 ],
 "metadata": {
  "celltoolbar": "Slideshow",
  "kernelspec": {
   "display_name": "Python 3",
   "language": "python",
   "name": "python3"
  },
  "language_info": {
   "codemirror_mode": {
    "name": "ipython",
    "version": 3
   },
   "file_extension": ".py",
   "mimetype": "text/x-python",
   "name": "python",
   "nbconvert_exporter": "python",
   "pygments_lexer": "ipython3",
   "version": "3.6.3"
  }
 },
 "nbformat": 4,
 "nbformat_minor": 2
}
