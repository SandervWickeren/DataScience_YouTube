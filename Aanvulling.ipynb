{
 "cells": [
  {
   "cell_type": "markdown",
   "metadata": {},
   "source": [
    "# Extra bij deelvraag 1, om betere uitleg te kunnen geven en getallen te hebben"
   ]
  },
  {
   "cell_type": "code",
   "execution_count": null,
   "metadata": {
    "collapsed": true
   },
   "outputs": [],
   "source": [
    "import operator\n",
    "def stripTitlesCount(titles,country):\n",
    "    result= []\n",
    "    stop = stopwords.words(\"english\") \n",
    "    for x in titles:\n",
    "        temp = re.sub(r\"[!.\\(\\)\\[\\],\\´\\';\\'\\-:\\'\\\"\\|\\/\\*\\?\\&]\", \"\", str(x).lower())\n",
    "        temp = re.sub(r\" {2,}\", \" \", temp)\n",
    "        \n",
    "        for y in temp.split(\" \"):\n",
    "            if y not in stop and re.fullmatch(r\"\\D+\",y):\n",
    "                result.append(y)\n",
    "    resultDict=Counter(result)\n",
    "    return resultDict\n",
    "\n",
    "\n",
    "titles = stripTitlesCount(trending.title.values, \"US\")\n",
    "titleslike = stripTitlesCount(trending[trending.like_view_ratio > 0.10].title.values, \"US\")\n",
    "titlesdislike = stripTitlesCount(trending[trending.dislike_view_ratio > 0.10].title.values, \"US\")\n",
    "alles = sorted(titles.items(), key=operator.itemgetter(1), reverse=True)\n",
    "like = sorted(titleslike.items(), key=operator.itemgetter(1), reverse=True)\n",
    "dislike = sorted(titlesdislike.items(), key=operator.itemgetter(1), reverse=True)\n",
    "print(alles[:20])\n",
    "print(like[:20])\n",
    "print(dislike[:20])"
   ]
  },
  {
   "cell_type": "code",
   "execution_count": null,
   "metadata": {
    "collapsed": true
   },
   "outputs": [],
   "source": [
    "\n"
   ]
  }
 ],
 "metadata": {
  "kernelspec": {
   "display_name": "Python 3",
   "language": "python",
   "name": "python3"
  },
  "language_info": {
   "codemirror_mode": {
    "name": "ipython",
    "version": 3
   },
   "file_extension": ".py",
   "mimetype": "text/x-python",
   "name": "python",
   "nbconvert_exporter": "python",
   "pygments_lexer": "ipython3",
   "version": "3.6.3"
  }
 },
 "nbformat": 4,
 "nbformat_minor": 2
}
