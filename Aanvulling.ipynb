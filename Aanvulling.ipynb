{
 "cells": [
  {
   "cell_type": "markdown",
   "metadata": {},
   "source": [
    "# Extra bij deelvraag 1, om betere uitleg te kunnen geven en getallen te hebben"
   ]
  },
  {
   "cell_type": "code",
   "execution_count": 2,
   "metadata": {},
   "outputs": [
    {
     "ename": "NameError",
     "evalue": "name 'trending' is not defined",
     "output_type": "error",
     "traceback": [
      "\u001b[1;31m---------------------------------------------------------------------------\u001b[0m",
      "\u001b[1;31mNameError\u001b[0m                                 Traceback (most recent call last)",
      "\u001b[1;32m<ipython-input-2-7f3eb5152ba7>\u001b[0m in \u001b[0;36m<module>\u001b[1;34m()\u001b[0m\n\u001b[0;32m     14\u001b[0m \u001b[1;33m\u001b[0m\u001b[0m\n\u001b[0;32m     15\u001b[0m \u001b[1;33m\u001b[0m\u001b[0m\n\u001b[1;32m---> 16\u001b[1;33m \u001b[0mtitles\u001b[0m \u001b[1;33m=\u001b[0m \u001b[0mstripTitlesCount\u001b[0m\u001b[1;33m(\u001b[0m\u001b[0mtrending\u001b[0m\u001b[1;33m.\u001b[0m\u001b[0mtitle\u001b[0m\u001b[1;33m.\u001b[0m\u001b[0mvalues\u001b[0m\u001b[1;33m,\u001b[0m \u001b[1;34m\"US\"\u001b[0m\u001b[1;33m)\u001b[0m\u001b[1;33m\u001b[0m\u001b[0m\n\u001b[0m\u001b[0;32m     17\u001b[0m \u001b[0mtitleslike\u001b[0m \u001b[1;33m=\u001b[0m \u001b[0mstripTitlesCount\u001b[0m\u001b[1;33m(\u001b[0m\u001b[0mtrending\u001b[0m\u001b[1;33m[\u001b[0m\u001b[0mtrending\u001b[0m\u001b[1;33m.\u001b[0m\u001b[0mlike_view_ratio\u001b[0m \u001b[1;33m>\u001b[0m \u001b[1;36m0.10\u001b[0m\u001b[1;33m]\u001b[0m\u001b[1;33m.\u001b[0m\u001b[0mtitle\u001b[0m\u001b[1;33m.\u001b[0m\u001b[0mvalues\u001b[0m\u001b[1;33m,\u001b[0m \u001b[1;34m\"US\"\u001b[0m\u001b[1;33m)\u001b[0m\u001b[1;33m\u001b[0m\u001b[0m\n\u001b[0;32m     18\u001b[0m \u001b[0mtitlesdislike\u001b[0m \u001b[1;33m=\u001b[0m \u001b[0mstripTitlesCount\u001b[0m\u001b[1;33m(\u001b[0m\u001b[0mtrending\u001b[0m\u001b[1;33m[\u001b[0m\u001b[0mtrending\u001b[0m\u001b[1;33m.\u001b[0m\u001b[0mdislike_view_ratio\u001b[0m \u001b[1;33m>\u001b[0m \u001b[1;36m0.10\u001b[0m\u001b[1;33m]\u001b[0m\u001b[1;33m.\u001b[0m\u001b[0mtitle\u001b[0m\u001b[1;33m.\u001b[0m\u001b[0mvalues\u001b[0m\u001b[1;33m,\u001b[0m \u001b[1;34m\"US\"\u001b[0m\u001b[1;33m)\u001b[0m\u001b[1;33m\u001b[0m\u001b[0m\n",
      "\u001b[1;31mNameError\u001b[0m: name 'trending' is not defined"
     ]
    }
   ],
   "source": [
    "import operator\n",
    "def stripTitlesCount(titles,country):\n",
    "    result= []\n",
    "    stop = stopwords.words(\"english\") \n",
    "    for x in titles:\n",
    "        temp = re.sub(r\"[!.\\(\\)\\[\\],\\´\\';\\'\\-:\\'\\\"\\|\\/\\*\\?\\&]\", \"\", str(x).lower())\n",
    "        temp = re.sub(r\" {2,}\", \" \", temp)\n",
    "        \n",
    "        for y in temp.split(\" \"):\n",
    "            if y not in stop and re.fullmatch(r\"\\D+\",y):\n",
    "                result.append(y)\n",
    "    resultDict=Counter(result)\n",
    "    return resultDict\n",
    "\n",
    "\n",
    "titles = stripTitlesCount(trending.title.values, \"US\")\n",
    "titleslike = stripTitlesCount(trending[trending.like_view_ratio > 0.10].title.values, \"US\")\n",
    "titlesdislike = stripTitlesCount(trending[trending.dislike_view_ratio > 0.10].title.values, \"US\")\n",
    "alles = sorted(titles.items(), key=operator.itemgetter(1), reverse=True)\n",
    "like = sorted(titleslike.items(), key=operator.itemgetter(1), reverse=True)\n",
    "dislike = sorted(titlesdislike.items(), key=operator.itemgetter(1), reverse=True)\n",
    "print(alles[:20])\n",
    "print(like[:20])\n",
    "print(dislike[:20])"
   ]
  },
  {
   "cell_type": "code",
   "execution_count": null,
   "metadata": {
    "collapsed": true
   },
   "outputs": [],
   "source": [
    "\n"
   ]
  }
 ],
 "metadata": {
  "kernelspec": {
   "display_name": "Python 3",
   "language": "python",
   "name": "python3"
  },
  "language_info": {
   "codemirror_mode": {
    "name": "ipython",
    "version": 3
   },
   "file_extension": ".py",
   "mimetype": "text/x-python",
   "name": "python",
   "nbconvert_exporter": "python",
   "pygments_lexer": "ipython3",
   "version": "3.6.3"
  }
 },
 "nbformat": 4,
 "nbformat_minor": 2
}
